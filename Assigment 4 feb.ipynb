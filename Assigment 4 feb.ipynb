{
 "cells": [
  {
   "cell_type": "code",
   "execution_count": null,
   "id": "13cfedf2-6cae-4b00-8d9a-bf5a073e5158",
   "metadata": {},
   "outputs": [],
   "source": [
    "Ans = 1 \n",
    "#  list of tuples\n",
    "list_of_tuples = [('Sachin Tendulkar', 34357), ('Ricky Ponting', 27483), ('Jack Kallis', 25534), ('Virat Kohli', 24936)]\n",
    "\n",
    "# sort the list of tuples based on integer value using a lambda function\n",
    "sorted_list_of_tuples = sorted(list_of_tuples, key=lambda x: x[1], reverse=True)\n",
    "\n",
    "# print the sorted list of tuples\n",
    "print(sorted_list_of_tuples)\n",
    "\n",
    "output = [('Sachin Tendulkar', 34357), ('Ricky Ponting', 27483), ('Jack Kallis', 25534), ('Virat Kohli', 24936)]\n"
   ]
  },
  {
   "cell_type": "code",
   "execution_count": null,
   "id": "c4b58b6a-7e85-4a99-8b55-0583709c4a86",
   "metadata": {},
   "outputs": [],
   "source": [
    "Ans = 2\n",
    "# de\n",
    "list_of_integers = [1, 2, 3, 4, 5, 6, 7, 8, 9, 10]\n",
    "\n",
    "squares_of_numbers = list(map(lambda x: x**2, list_of_integers))\n",
    "\n",
    "print(squares_of_numbers)\n",
    "\n",
    "output = [1, 4, 9, 16, 25, 36, 49, 64, 81, 100]\n"
   ]
  },
  {
   "cell_type": "code",
   "execution_count": null,
   "id": "39ce589a-fc86-4ced-973b-9451e9ed7019",
   "metadata": {},
   "outputs": [],
   "source": [
    "Ans = 3\n",
    "list_of_integers = [1, 2, 3, 4, 5, 6, 7, 8, 9, 10]\n",
    "\n",
    "tuple_of_strings = tuple(map(lambda x: str(x), list_of_integers))\n",
    "\n",
    "print(tuple_of_strings)\n",
    "\n",
    "output = ('1', '2', '3', '4', '5', '6', '7', '8', '9', '10')\n"
   ]
  },
  {
   "cell_type": "code",
   "execution_count": null,
   "id": "c7ed3160-20ca-4281-821d-601ee54eab58",
   "metadata": {},
   "outputs": [],
   "source": [
    "Ans = 4\n",
    "list_of_numbers = list(range(1, 26))\n",
    "\n",
    "product_of_numbers = reduce(lambda x, y: x*y, list_of_numbers\n",
    "\n",
    "print(product_of_numbers)\n",
    "\n",
    "output = 15511210043330985984000000\n"
   ]
  },
  {
   "cell_type": "code",
   "execution_count": null,
   "id": "35d5b26e-58e5-4a7d-8e4f-43f47904535d",
   "metadata": {},
   "outputs": [],
   "source": [
    "Ans = 5\n",
    "list_of_numbers = [2, 3, 6, 9, 2,7, 60, 90, 120, 55, 46]\n",
    "\n",
    "\n",
    "filtered_numbers = list(filter(lambda x: (x % 2 == 0) and (x % 3 == 0), list_of_numbers))\n",
    "\n",
    "print(filtered_numbers)\n",
    "\n",
    "output = [6, 60, 90, 120]\n"
   ]
  },
  {
   "cell_type": "code",
   "execution_count": null,
   "id": "3e70be86-d07f-45ae-8f07-ad0d934d0d19",
   "metadata": {},
   "outputs": [],
   "source": [
    "Ans = 6\n",
    "list_of_strings = ['python', 'php', 'aba', 'radar', 'level']\n",
    "\n",
    "palindromes = list(filter(lambda x: x == x[::-1], list_of_strings))\n",
    "\n",
    "print(palindromes)\n",
    "\n",
    "output = ['aba', 'radar', 'level']\n"
   ]
  },
  {
   "cell_type": "markdown",
   "id": "d72c85c5-ae36-4cfd-aa92-5c17c93825fb",
   "metadata": {},
   "source": []
  }
 ],
 "metadata": {
  "kernelspec": {
   "display_name": "Python 3 (ipykernel)",
   "language": "python",
   "name": "python3"
  },
  "language_info": {
   "codemirror_mode": {
    "name": "ipython",
    "version": 3
   },
   "file_extension": ".py",
   "mimetype": "text/x-python",
   "name": "python",
   "nbconvert_exporter": "python",
   "pygments_lexer": "ipython3",
   "version": "3.10.8"
  }
 },
 "nbformat": 4,
 "nbformat_minor": 5
}
