{
 "cells": [
  {
   "cell_type": "raw",
   "id": "dd3f7590-6228-4289-871d-9a57f636d52d",
   "metadata": {},
   "source": [
    "Ans = 1 \n",
    "#  list of tuples\n",
    "list_of_tuples = [('Sachin Tendulkar', 34357), ('Ricky Ponting', 27483), ('Jack Kallis', 25534), ('Virat Kohli', 24936)]\n",
    "\n",
    "# sort the list of tuples based on integer value using a lambda function\n",
    "sorted_list_of_tuples = sorted(list_of_tuples, key=lambda x: x[1], reverse=True)\n",
    "\n",
    "# print the sorted list of tuples\n",
    "print(sorted_list_of_tuples)\n",
    "\n",
    "output = [('Sachin Tendulkar', 34357), ('Ricky Ponting', 27483), ('Jack Kallis', 25534), ('Virat Kohli', 24936)]\n"
   ]
  },
  {
   "cell_type": "raw",
   "id": "43fb5b85-c9c2-4879-8aa7-1c252710f06a",
   "metadata": {},
   "source": [
    "Ans = 2\n",
    "# define the list of integers\n",
    "list_of_integers = [1, 2, 3, 4, 5, 6, 7, 8, 9, 10]\n",
    "\n",
    "# use lambda and map functions to find the squares of all the numbers in the list\n",
    "squares_of_numbers = list(map(lambda x: x**2, list_of_integers))\n",
    "\n",
    "# print the squares of all the numbers in the list\n",
    "print(squares_of_numbers)\n",
    "\n",
    "output = [1, 4, 9, 16, 25, 36, 49, 64, 81, 100]\n"
   ]
  },
  {
   "cell_type": "raw",
   "id": "621e925e-3690-4800-973a-66ec05ad8ad3",
   "metadata": {},
   "source": [
    "Ans = 3\n",
    "list_of_integers = [1, 2, 3, 4, 5, 6, 7, 8, 9, 10]\n",
    "\n",
    "tuple_of_strings = tuple(map(lambda x: str(x), list_of_integers))\n",
    "\n",
    "print(tuple_of_strings)\n",
    "\n",
    "output = ('1', '2', '3', '4', '5', '6', '7', '8', '9', '10')\n"
   ]
  },
  {
   "cell_type": "raw",
   "id": "ffdabffd-16c6-4f9c-bd41-365774fde641",
   "metadata": {},
   "source": [
    "Ans = 4\n",
    "list_of_numbers = list(range(1, 26))\n",
    "\n",
    "product_of_numbers = reduce(lambda x, y: x*y, list_of_numbers\n",
    "\n",
    "print(product_of_numbers)\n",
    "\n",
    "output = 15511210043330985984000000\n"
   ]
  },
  {
   "cell_type": "raw",
   "id": "89673168-86d7-47bd-abe0-5ef764ad4a61",
   "metadata": {},
   "source": [
    "Ans = 5\n",
    "list_of_numbers = [2, 3, 6, 9, 27, 60, 90, 120, 55, 46]\n",
    "\n",
    "filtered_numbers = list(filter(lambda x: (x % 2 == 0) and (x % 3 == 0), list_of_numbers))\n",
    "\n",
    "# print the filtered numbers\n",
    "print(filtered_numbers)\n",
    "\n",
    "output = [6, 60, 90, 120]\n"
   ]
  }
 ],
 "metadata": {
  "kernelspec": {
   "display_name": "Python 3 (ipykernel)",
   "language": "python",
   "name": "python3"
  },
  "language_info": {
   "codemirror_mode": {
    "name": "ipython",
    "version": 3
   },
   "file_extension": ".py",
   "mimetype": "text/x-python",
   "name": "python",
   "nbconvert_exporter": "python",
   "pygments_lexer": "ipython3",
   "version": "3.10.8"
  }
 },
 "nbformat": 4,
 "nbformat_minor": 5
}
